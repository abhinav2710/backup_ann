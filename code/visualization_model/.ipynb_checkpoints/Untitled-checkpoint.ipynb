{
 "cells": [
  {
   "cell_type": "code",
   "execution_count": 13,
   "metadata": {
    "collapsed": false
   },
   "outputs": [],
   "source": [
    "import numpy as np\n",
    "import matplotlib.pyplot as plt\n",
    "%matplotlib inline\n",
    "import Image\n",
    "\n",
    "# Make sure that caffe is on the python path:\n",
    "caffe_root = '/home/abhinav/Softwares/caffe/'  # this file is expected to be in {caffe_root}/examples\n",
    "import sys\n",
    "sys.path.insert(0, caffe_root + 'python')\n",
    "\n",
    "import caffe\n",
    "\n",
    "# configure plotting\n",
    "plt.rcParams['figure.figsize'] = (10, 10)\n",
    "plt.rcParams['image.interpolation'] = 'nearest'\n",
    "plt.rcParams['image.cmap'] = 'gray'"
   ]
  },
  {
   "cell_type": "code",
   "execution_count": 14,
   "metadata": {
    "collapsed": false
   },
   "outputs": [],
   "source": [
    "caffe.set_mode_gpu()\n",
    "color_net = caffe.Net('/home/abhinav/ann_project/code/imagenet_model_alexnet/deploy.prototxt', \n",
    "                      '/media/data/abhinav/ann_project_data/ImageNet_trained_models_resized_alexnet/alexnet_imagenet_iter_440000.caffemodel',\n",
    "                      caffe.TEST)\n"
   ]
  },
  {
   "cell_type": "code",
   "execution_count": 15,
   "metadata": {
    "collapsed": false
   },
   "outputs": [
    {
     "name": "stdout",
     "output_type": "stream",
     "text": [
      "blobs ['data', 'conv1', 'norm1', 'pool1', 'conv2', 'norm2', 'pool2', 'conv3', 'conv4', 'conv5', 'pool5', 'fc6', 'fc7', 'fc8', 'prob']\n",
      "params ['conv1', 'conv2', 'conv3', 'conv4', 'conv5', 'fc6', 'fc7', 'fc8']\n"
     ]
    }
   ],
   "source": [
    "print(\"blobs {}\\nparams {}\".format(color_net.blobs.keys(), color_net.params.keys()))\n"
   ]
  },
  {
   "cell_type": "code",
   "execution_count": 18,
   "metadata": {
    "collapsed": false
   },
   "outputs": [],
   "source": [
    "# input preprocessing: 'data' is the name of the input blob == net.inputs[0]\n",
    "transformer = caffe.io.Transformer({'data': color_net.blobs['data'].data.shape})\n",
    "transformer.set_transpose('data', (2,0,1))\n",
    "transformer.set_mean('data', np.load(caffe_root + 'python/caffe/imagenet/ilsvrc_2012_mean.npy').mean(1).mean(1)) # mean pixel\n",
    "transformer.set_raw_scale('data', 255)  # the reference model operates on images in [0,255] range instead of [0,1]\n",
    "transformer.set_channel_swap('data', (2,1,0))  # the reference model has channels in BGR order instead of RGB"
   ]
  },
  {
   "cell_type": "code",
   "execution_count": 20,
   "metadata": {
    "collapsed": false
   },
   "outputs": [
    {
     "ename": "NameError",
     "evalue": "name 'net' is not defined",
     "output_type": "error",
     "traceback": [
      "\u001b[1;31m---------------------------------------------------------------------------\u001b[0m",
      "\u001b[1;31mNameError\u001b[0m                                 Traceback (most recent call last)",
      "\u001b[1;32m<ipython-input-20-87d59dda56a5>\u001b[0m in \u001b[0;36m<module>\u001b[1;34m()\u001b[0m\n\u001b[0;32m      1\u001b[0m \u001b[1;31m# load image and prepare as a single input batch for Caffe\u001b[0m\u001b[1;33m\u001b[0m\u001b[1;33m\u001b[0m\u001b[0m\n\u001b[0;32m      2\u001b[0m \u001b[0mim\u001b[0m \u001b[1;33m=\u001b[0m \u001b[0mnp\u001b[0m\u001b[1;33m.\u001b[0m\u001b[0marray\u001b[0m\u001b[1;33m(\u001b[0m\u001b[0mImage\u001b[0m\u001b[1;33m.\u001b[0m\u001b[0mopen\u001b[0m\u001b[1;33m(\u001b[0m\u001b[1;34m'/home/abhinav/Softwares/caffe/examples/images/cat_227.jpg'\u001b[0m\u001b[1;33m)\u001b[0m\u001b[1;33m)\u001b[0m\u001b[1;33m\u001b[0m\u001b[0m\n\u001b[1;32m----> 3\u001b[1;33m \u001b[0mnet\u001b[0m\u001b[1;33m.\u001b[0m\u001b[0mblobs\u001b[0m\u001b[1;33m[\u001b[0m\u001b[1;34m'data'\u001b[0m\u001b[1;33m]\u001b[0m\u001b[1;33m.\u001b[0m\u001b[0mdata\u001b[0m\u001b[1;33m[\u001b[0m\u001b[1;33m.\u001b[0m\u001b[1;33m.\u001b[0m\u001b[1;33m.\u001b[0m\u001b[1;33m]\u001b[0m \u001b[1;33m=\u001b[0m \u001b[0mtransformer\u001b[0m\u001b[1;33m.\u001b[0m\u001b[0mpreprocess\u001b[0m\u001b[1;33m(\u001b[0m\u001b[1;34m'data'\u001b[0m\u001b[1;33m,\u001b[0m \u001b[0mcaffe\u001b[0m\u001b[1;33m.\u001b[0m\u001b[0mio\u001b[0m\u001b[1;33m.\u001b[0m\u001b[0mload_image\u001b[0m\u001b[1;33m(\u001b[0m\u001b[1;34m'/home/abhinav/Softwares/caffe/examples/images/cat_227.jpg'\u001b[0m\u001b[1;33m)\u001b[0m\u001b[1;33m)\u001b[0m\u001b[1;33m\u001b[0m\u001b[0m\n\u001b[0m\u001b[0;32m      4\u001b[0m \u001b[0mplt\u001b[0m\u001b[1;33m.\u001b[0m\u001b[0mtitle\u001b[0m\u001b[1;33m(\u001b[0m\u001b[1;34m\"original image\"\u001b[0m\u001b[1;33m)\u001b[0m\u001b[1;33m\u001b[0m\u001b[0m\n\u001b[0;32m      5\u001b[0m \u001b[0mplt\u001b[0m\u001b[1;33m.\u001b[0m\u001b[0mimshow\u001b[0m\u001b[1;33m(\u001b[0m\u001b[0mim\u001b[0m\u001b[1;33m)\u001b[0m\u001b[1;33m\u001b[0m\u001b[0m\n",
      "\u001b[1;31mNameError\u001b[0m: name 'net' is not defined"
     ]
    }
   ],
   "source": [
    "# load image and prepare as a single input batch for Caffe\n",
    "im = np.array(Image.open('/home/abhinav/Softwares/caffe/examples/images/cat_227.jpg'))\n",
    "color_net.blobs['data'].data[...] = transformer.preprocess('data', caffe.io.load_image('/home/abhinav/Softwares/caffe/examples/images/cat_227.jpg'))\n",
    "plt.title(\"original image\")\n",
    "plt.imshow(im)\n",
    "plt.axis('off')"
   ]
  },
  {
   "cell_type": "code",
   "execution_count": 7,
   "metadata": {
    "collapsed": false
   },
   "outputs": [
    {
     "name": "stdout",
     "output_type": "stream",
     "text": [
      "(10, 3, 227, 227)\n",
      "(1, 1, 227, 227, 3)\n",
      "(1, 3, 227, 227, 1)\n",
      "(1, 3, 227, 227)\n",
      "(10, 3, 227, 227)\n",
      "(10, 3, 227, 227)\n"
     ]
    }
   ],
   "source": [
    "#print(color_net.blobs['data'].shape())\n",
    "#print(color_net.blobs['data'].data.shape)\n",
    "#im_input = im[np.newaxis, np.newaxis, :, :]\n",
    "#print(im_input.shape)\n",
    "#im_input = np.swapaxes(im_input, 1, 4)\n",
    "#print(im_input.shape)\n",
    "#im_input = im_input.reshape(1, 3, 227, 227)\n",
    "#print(im_input.shape)\n",
    "#im_input = np.append(im_input, im_input, axis=0)\n",
    "#im_input = np.append(im_input, im_input, axis=0)\n",
    "#im_input = np.append(im_input, im_input, axis=0)\n",
    "#im_input = np.append(im_input, im_input[0:2, :,  : , :], axis=0)\n",
    "\n",
    "#print(im_input.shape)\n",
    "\n",
    "#color_net.blobs['data'].reshape(*im_input.shape)\n",
    "#color_net.blobs['data'].data[...] = im_input\n",
    "print(color_net.blobs['data'].data.shape)"
   ]
  },
  {
   "cell_type": "code",
   "execution_count": 9,
   "metadata": {
    "collapsed": false
   },
   "outputs": [
    {
     "name": "stdout",
     "output_type": "stream",
     "text": [
      "-0.0\n",
      "2027.91\n"
     ]
    },
    {
     "data": {
      "image/png": "[encoded data removed]",
      "text/plain": [
       "<matplotlib.figure.Figure at 0x7fda68524710>"
      ]
     },
     "metadata": {},
     "output_type": "display_data"
    }
   ],
   "source": [
    "def show_filters(net):\n",
    "    net.forward()\n",
    "    plt.figure()\n",
    "    filt_min, filt_max = net.blobs['conv1'].data.min(), net.blobs['conv1'].data.max()\n",
    "    print(filt_min)\n",
    "    print(filt_max)\n",
    "    for i in range(3):\n",
    "        plt.subplot(1,4,i+2)\n",
    "        plt.title(\"filter #{} output\".format(i))\n",
    "        plt.imshow(net.blobs['conv1'].data[0, i+6], vmin=filt_min, vmax=filt_max)\n",
    "        plt.tight_layout()\n",
    "        plt.axis('off')\n",
    "\n",
    "# filter the image with initial \n",
    "show_filters(color_net)"
   ]
  },
  {
   "cell_type": "code",
   "execution_count": null,
   "metadata": {
    "collapsed": false
   },
   "outputs": [],
   "source": [
    "print(color_net.blobs['conv1'].data[0].shape)"
   ]
  },
  {
   "cell_type": "code",
   "execution_count": null,
   "metadata": {
    "collapsed": true
   },
   "outputs": [],
   "source": []
  }
 ],
 "metadata": {
  "kernelspec": {
   "display_name": "Python 2",
   "language": "python",
   "name": "python2"
  },
  "language_info": {
   "codemirror_mode": {
    "name": "ipython",
    "version": 2
   },
   "file_extension": ".py",
   "mimetype": "text/x-python",
   "name": "python",
   "nbconvert_exporter": "python",
   "pygments_lexer": "ipython2",
   "version": "2.7.6"
  }
 },
 "nbformat": 4,
 "nbformat_minor": 0
}
